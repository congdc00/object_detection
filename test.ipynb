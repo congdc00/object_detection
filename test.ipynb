{
 "cells": [
  {
   "cell_type": "code",
   "execution_count": 1,
   "metadata": {
    "collapsed": true
   },
   "outputs": [
    {
     "name": "stderr",
     "output_type": "stream",
     "text": [
      "2022-01-04 12:45:13.571 \n",
      "  \u001B[33m\u001B[1mWarning:\u001B[0m to view this Streamlit app on a browser, run it with the following\n",
      "  command:\n",
      "\n",
      "    streamlit run C:\\Users\\DINH CHI CONG\\AppData\\Roaming\\Python\\Python39\\site-packages\\ipykernel_launcher.py [ARGUMENTS]\n"
     ]
    }
   ],
   "source": [
    "from lib_all import *\n",
    "\n",
    "#from inferance import predict\n",
    "#teptin = streamlit.file_uploader(\"Tải ảnh dự đoán\", types = \"png\")\n",
    "#if not (teptin is None):\n",
    "#     streamlit.s\n",
    "#     result_path = \"./data/result/result.png\"\n",
    "#    streamlit.image(result_path)\n",
    "\n",
    "\n",
    "\n",
    "streamlit.subheader(\"Nhận diện vật thể\")\n",
    "image_file = streamlit.file_uploader(\"Tải ảnh cần dự đoán\", type=\"jpg\")\n",
    "\n",
    "if image_file is not None:\n",
    "\n",
    "    # To See details\n",
    "    file_details = {\"filename\":image_file.name, \"filetype\":image_file.type,\n",
    "                    \"filesize\":image_file.size}\n",
    "    streamlit.write(file_details)\n",
    "\n",
    "    # To View Uploaded Image\n",
    "    img = Image.open(image_file)\n",
    "    streamlit.image(img,width=700)\n",
    "\n",
    "    with open(os.path.join(\"data/database\", \"ask.jpg\"), \"wb\") as f:\n",
    "        f.write((image_file).getbuffer())\n",
    "\n",
    "    streamlit.success(\"Đã lưu\")\n",
    "\n",
    "    #show ket qua\n",
    "    ask_img_path = \"./data/database/result.jpg\"\n",
    "    if ask_img_path is not None:\n",
    "        img = Image.open(ask_img_path)\n",
    "        streamlit.image(img,width=700)\n",
    "#img_file_path = \"./data/database/ask.png\"\n",
    "#img = predict(img_file_path)\n",
    "#cv2.imwrite(\".data/database/result.png\", img)"
   ]
  },
  {
   "cell_type": "code",
   "execution_count": null,
   "outputs": [],
   "source": [],
   "metadata": {
    "collapsed": false,
    "pycharm": {
     "name": "#%%\n"
    }
   }
  }
 ],
 "metadata": {
  "kernelspec": {
   "display_name": "Python 3",
   "language": "python",
   "name": "python3"
  },
  "language_info": {
   "codemirror_mode": {
    "name": "ipython",
    "version": 2
   },
   "file_extension": ".py",
   "mimetype": "text/x-python",
   "name": "python",
   "nbconvert_exporter": "python",
   "pygments_lexer": "ipython2",
   "version": "2.7.6"
  }
 },
 "nbformat": 4,
 "nbformat_minor": 0
}
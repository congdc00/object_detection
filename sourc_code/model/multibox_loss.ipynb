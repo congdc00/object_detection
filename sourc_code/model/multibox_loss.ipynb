{
 "cells": [
  {
   "cell_type": "code",
   "execution_count": 1,
   "metadata": {
    "collapsed": true
   },
   "outputs": [],
   "source": [
    "import sourc_code.utils.box_utils\n",
    "from lib_all import *"
   ]
  },
  {
   "cell_type": "code",
   "execution_count": null,
   "outputs": [],
   "source": [
    "class MultiBoxLoss(nn.Module):\n",
    "    def __init__(self, jaccard_threshold = 0.5, scale_ne_po = 3, device = \"cpu\"):\n",
    "        \"\"\"\n",
    "        :param jaccard_threshold: nguong jaccard, lon hon thi la positive\n",
    "        :param scale_ne_po: ti le negative/positive\n",
    "        :param device: train tren thiet bi nao\n",
    "        \"\"\"\n",
    "        super(MultiBoxLoss, self).__init__() # khoi tao Module va ke thua\n",
    "        self.jaccard_threshold = jaccard_threshold\n",
    "        self.scale_ne_po = scale_ne_po\n",
    "        self.device = device\n",
    "\n",
    "    def forward(self, predictions, targets):\n",
    "        \"\"\"\n",
    "        :param prediction: du doan\n",
    "        :param target: label\n",
    "        :return:\n",
    "        \"\"\"\n",
    "        loc_data, conf_data, dbox_list = predictions\n",
    "\n",
    "        #loc_data = (batch_size, num_dbox, 4)\n",
    "        batch_size = loc_data.size(0)\n",
    "        num_dbox = loc_data.size(1)\n",
    "        num_classes = conf_data.size(2)\n",
    "\n",
    "        # Bien doi thong tin annotation thanh label can hoc bang cach tao ra 2 tensor rong\n",
    "        conf_t_label = torch.LongTensor(batch_size, num_dbox).to(self.device) # chuyen ve dang long de sau nay dua vao F.\n",
    "        loc_t= torch.Tensor(batch_size, num_dbox, 4)\n",
    "\n",
    "        for index in range(batch_size):\n",
    "            truths_box = targets[index][:, :-1].to(self.device) #(object, location)\n",
    "            labels = targets[index][:, -1].to(self.device)\n",
    "\n",
    "            dbox = dbox_list.to(self.device)\n",
    "            variances = [0.1, 0.2] # he so de bien doi tu dbox sang bbox\n",
    "            box_utils.match(self.jaccard_threshold, truths_box, dbox, variances, labels, loc_t, conf_t_label, index)"
   ],
   "metadata": {
    "collapsed": false,
    "pycharm": {
     "name": "#%%\n"
    }
   }
  },
  {
   "cell_type": "code",
   "execution_count": null,
   "outputs": [],
   "source": [],
   "metadata": {
    "collapsed": false,
    "pycharm": {
     "name": "#%%\n"
    }
   }
  }
 ],
 "metadata": {
  "kernelspec": {
   "display_name": "Python 3",
   "language": "python",
   "name": "python3"
  },
  "language_info": {
   "codemirror_mode": {
    "name": "ipython",
    "version": 2
   },
   "file_extension": ".py",
   "mimetype": "text/x-python",
   "name": "python",
   "nbconvert_exporter": "python",
   "pygments_lexer": "ipython2",
   "version": "2.7.6"
  }
 },
 "nbformat": 4,
 "nbformat_minor": 0
}
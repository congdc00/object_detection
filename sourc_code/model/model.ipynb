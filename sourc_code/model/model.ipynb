{
 "cells": [
  {
   "cell_type": "markdown",
   "source": [
    "# Xây dựng model"
   ],
   "metadata": {
    "collapsed": false
   }
  },
  {
   "cell_type": "code",
   "execution_count": 49,
   "metadata": {
    "collapsed": true
   },
   "outputs": [],
   "source": [
    "from lib_all import *\n",
    "import nbimporter\n",
    "from sourc_code.model.l2_norm import L2Norm\n",
    "from sourc_code.model.default_box import DefaultBox"
   ]
  },
  {
   "cell_type": "markdown",
   "source": [
    "## Các module trong ssd"
   ],
   "metadata": {
    "collapsed": false
   }
  },
  {
   "cell_type": "code",
   "execution_count": 50,
   "outputs": [],
   "source": [
    "configs = {\n",
    "    \"num_classes\": 21,\n",
    "    \"input_size\": 300,\n",
    "    \"aspect_num\": [4, 6, 6, 6, 4, 4], #so bbox/ pixel  trong so cho cac sorce tu 1 -> 6\n",
    "    \"feature_maps\": [38, 19, 10, 5, 3, 1],\n",
    "    \"steps\": [8, 16, 32, 64, 100, 300], # size cua pixel\n",
    "    \"min_size\": [30, 60, 111, 162, 213, 264],  #size cua default box\n",
    "    \"max_size\": [60, 111, 162, 213, 264, 315], #size cua default box\n",
    "    \"aspect_ratio\":[[2],[2,3],[2,3],[2,3],[2],[2]]\n",
    "}"
   ],
   "metadata": {
    "collapsed": false,
    "pycharm": {
     "name": "#%%\n"
    }
   }
  },
  {
   "cell_type": "markdown",
   "source": [
    "### I. Module VGG"
   ],
   "metadata": {
    "collapsed": false
   }
  },
  {
   "cell_type": "code",
   "execution_count": 51,
   "outputs": [],
   "source": [
    "def create_vgg():\n",
    "    layers = []\n",
    "\n",
    "    input_channels = 3\n",
    "    configs = [64, 64, 'M',\n",
    "               128, 128, 'M',\n",
    "               256, 256, 256, 'MC',\n",
    "               512, 512, 512, 'M',\n",
    "               512, 512, 512]\n",
    "    relu = nn.ReLU(inplace = True) #inplace la khong muon luu ket qua tren memory => Tiet kiem bo nho\n",
    "\n",
    "    for config in configs:\n",
    "        if config == 'M': #lam tron bang cach lay nguyen phan nguyen\n",
    "            layers += [nn.MaxPool2d(kernel_size = 2, stride = 2)] # 2x2 va lay ra pixel lon nhat trong 4 pixel do => giam di 1 nua, stride la dich di 2 pixel/ lan\n",
    "        elif config == 'MC': # lam tron len\n",
    "            layers += [nn.MaxPool2d(kernel_size = 2, stride = 2, ceil_mode = True)]\n",
    "        else:\n",
    "            conv2d = nn.Conv2d(input_channels, config, kernel_size = 3, padding  =1) # config la so channels ouput, padding la 1\n",
    "            layers += [conv2d, relu]\n",
    "\n",
    "            input_channels = config\n",
    "\n",
    "    pool5  = nn.MaxPool2d(kernel_size = 3, stride = 1, padding  = 1)\n",
    "    layers += [pool5]\n",
    "    conv6 = nn.Conv2d(input_channels,1024,  kernel_size = 3, padding = 6, dilation = 6) # khoang cach giua cac phan tu trong kernel\n",
    "    layers += [conv6, relu]\n",
    "    conv7 = nn.Conv2d(1024,1024, kernel_size = 1)\n",
    "    layers += [conv7, relu]\n",
    "\n",
    "    return nn.ModuleList(layers)"
   ],
   "metadata": {
    "collapsed": false,
    "pycharm": {
     "name": "#%%\n"
    }
   }
  },
  {
   "cell_type": "markdown",
   "source": [
    "### II. Module Extras"
   ],
   "metadata": {
    "collapsed": false
   }
  },
  {
   "cell_type": "code",
   "execution_count": 52,
   "outputs": [],
   "source": [
    "def create_extras():\n",
    "    layers = []\n",
    "    configs = [256, 512, 128, 256, 128, 256, 128, 256 ]\n",
    "\n",
    "    # block 1\n",
    "    input_channels = 1024\n",
    "    output_channels = configs[0]\n",
    "    conv1 = nn.Conv2d(input_channels, output_channels, kernel_size=1)\n",
    "    layers+= [conv1]\n",
    "\n",
    "    # block 2\n",
    "    input_channels = configs[0]\n",
    "    output_channels = configs[1]\n",
    "    conv2 = nn.Conv2d(input_channels, output_channels, kernel_size=3, stride= 2, padding= 1)\n",
    "    layers+= [conv2]\n",
    "\n",
    "    # block 3\n",
    "    input_channels = configs[1]\n",
    "    output_channels = configs[2]\n",
    "    conv3 = nn.Conv2d(input_channels, output_channels, kernel_size=1)\n",
    "    layers+= [conv3]\n",
    "\n",
    "    # block 4\n",
    "    input_channels = configs[2]\n",
    "    output_channels = configs[3]\n",
    "    conv4 = nn.Conv2d(input_channels, output_channels, kernel_size=3, stride= 2, padding= 1)\n",
    "    layers+= [conv4]\n",
    "\n",
    "    # block 5\n",
    "    input_channels = configs[3]\n",
    "    output_channels = configs[4]\n",
    "    conv5 = nn.Conv2d(input_channels, output_channels, kernel_size=1)\n",
    "    layers+= [conv5]\n",
    "\n",
    "    # block 6\n",
    "    input_channels = configs[4]\n",
    "    output_channels = configs[5]\n",
    "    conv6 = nn.Conv2d(input_channels, output_channels, kernel_size=3)\n",
    "    layers+= [conv6]\n",
    "\n",
    "    # block 7\n",
    "    input_channels = configs[5]\n",
    "    output_channels = configs[6]\n",
    "    conv7 = nn.Conv2d(input_channels, output_channels, kernel_size=1)\n",
    "    layers+= [conv7]\n",
    "\n",
    "    # block 8\n",
    "    input_channels = configs[6]\n",
    "    output_channels = configs[7]\n",
    "    conv8 = nn.Conv2d(input_channels, output_channels, kernel_size=1)\n",
    "    layers+= [conv8]\n",
    "\n",
    "    return nn.ModuleList(layers)"
   ],
   "metadata": {
    "collapsed": false,
    "pycharm": {
     "name": "#%%\n"
    }
   }
  },
  {
   "cell_type": "markdown",
   "source": [
    "### III.Module loc"
   ],
   "metadata": {
    "collapsed": false
   }
  },
  {
   "cell_type": "markdown",
   "source": [
    "bbox_ratio_num: tỉ lệ để nhân với số lượng bbox ra 8732"
   ],
   "metadata": {
    "collapsed": false
   }
  },
  {
   "cell_type": "code",
   "execution_count": 53,
   "outputs": [],
   "source": [
    "def create_loc(aspect_num):\n",
    "    list_input_channels = [512, 1024,512, 256, 256,256]\n",
    "    num_offset = 4\n",
    "    layers = []\n",
    "\n",
    "    for index_source in range(0, 6):\n",
    "        input_channels = list_input_channels[index_source]\n",
    "        output_channels = aspect_num[index_source]*num_offset\n",
    "        conv = nn.Conv2d(input_channels,output_channels, kernel_size=3, padding=1)\n",
    "        layers += [conv]\n",
    "\n",
    "    return nn.ModuleList(layers)"
   ],
   "metadata": {
    "collapsed": false,
    "pycharm": {
     "name": "#%%\n"
    }
   }
  },
  {
   "cell_type": "markdown",
   "source": [
    "### IV. Module conf"
   ],
   "metadata": {
    "collapsed": false
   }
  },
  {
   "cell_type": "markdown",
   "source": [
    "num_classes: truyen vao 21"
   ],
   "metadata": {
    "collapsed": false
   }
  },
  {
   "cell_type": "code",
   "execution_count": 54,
   "outputs": [],
   "source": [
    "def create_conf(num_classes, aspect_num):\n",
    "    list_input_channels = [512, 1024,512, 256, 256,256]\n",
    "    layers = []\n",
    "\n",
    "    for index_source in range(0, 6):\n",
    "        input_channels = list_input_channels[index_source]\n",
    "        output_channels = aspect_num[index_source]*num_classes\n",
    "        conv = nn.Conv2d(input_channels,output_channels, kernel_size=3, padding=1)\n",
    "        layers += [conv]\n",
    "\n",
    "    return nn.ModuleList(layers)"
   ],
   "metadata": {
    "collapsed": false,
    "pycharm": {
     "name": "#%%\n"
    }
   }
  },
  {
   "cell_type": "markdown",
   "source": [
    "## Class ssd"
   ],
   "metadata": {
    "collapsed": false
   }
  },
  {
   "cell_type": "code",
   "execution_count": 55,
   "outputs": [],
   "source": [
    "class SSD(nn.Module):\n",
    "    def __init__(self, phase, configs):\n",
    "        super(SSD, self).__init__()\n",
    "\n",
    "        self.phase = phase\n",
    "        self.num_classes = configs[\"num_classes\"]\n",
    "\n",
    "        #Tao ra cac module chinh\n",
    "        self.vgg = create_vgg()\n",
    "        self.extras = create_extras()\n",
    "        self.loc = create_loc(aspect_num=configs[\"aspect_num\"])\n",
    "        self.conf = create_conf(num_classes=configs[\"num_classes\"], aspect_num=configs[\"aspect_num\"])\n",
    "        self.l2norm = L2Norm()\n",
    "\n",
    "        # Tao ra default box\n",
    "        self.default_box = DefaultBox(configs)\n",
    "        self.default_box_list = self.default_box.create_defaultbox()\n",
    "\n",
    "        # Nhan dien\n",
    "        if phase ==  \"inference\":\n",
    "            self.detect = Detect()"
   ],
   "metadata": {
    "collapsed": false,
    "pycharm": {
     "name": "#%%\n"
    }
   }
  },
  {
   "cell_type": "markdown",
   "source": [
    "# Test"
   ],
   "metadata": {
    "collapsed": false
   }
  },
  {
   "cell_type": "markdown",
   "source": [
    "Kiểm tra module vgg"
   ],
   "metadata": {
    "collapsed": false
   }
  },
  {
   "cell_type": "code",
   "execution_count": 56,
   "outputs": [
    {
     "name": "stdout",
     "output_type": "stream",
     "text": [
      "ModuleList(\n",
      "  (0): Conv2d(3, 64, kernel_size=(3, 3), stride=(1, 1), padding=(1, 1))\n",
      "  (1): ReLU(inplace=True)\n",
      "  (2): Conv2d(64, 64, kernel_size=(3, 3), stride=(1, 1), padding=(1, 1))\n",
      "  (3): ReLU(inplace=True)\n",
      "  (4): MaxPool2d(kernel_size=2, stride=2, padding=0, dilation=1, ceil_mode=False)\n",
      "  (5): Conv2d(64, 128, kernel_size=(3, 3), stride=(1, 1), padding=(1, 1))\n",
      "  (6): ReLU(inplace=True)\n",
      "  (7): Conv2d(128, 128, kernel_size=(3, 3), stride=(1, 1), padding=(1, 1))\n",
      "  (8): ReLU(inplace=True)\n",
      "  (9): MaxPool2d(kernel_size=2, stride=2, padding=0, dilation=1, ceil_mode=False)\n",
      "  (10): Conv2d(128, 256, kernel_size=(3, 3), stride=(1, 1), padding=(1, 1))\n",
      "  (11): ReLU(inplace=True)\n",
      "  (12): Conv2d(256, 256, kernel_size=(3, 3), stride=(1, 1), padding=(1, 1))\n",
      "  (13): ReLU(inplace=True)\n",
      "  (14): Conv2d(256, 256, kernel_size=(3, 3), stride=(1, 1), padding=(1, 1))\n",
      "  (15): ReLU(inplace=True)\n",
      "  (16): MaxPool2d(kernel_size=2, stride=2, padding=0, dilation=1, ceil_mode=True)\n",
      "  (17): Conv2d(256, 512, kernel_size=(3, 3), stride=(1, 1), padding=(1, 1))\n",
      "  (18): ReLU(inplace=True)\n",
      "  (19): Conv2d(512, 512, kernel_size=(3, 3), stride=(1, 1), padding=(1, 1))\n",
      "  (20): ReLU(inplace=True)\n",
      "  (21): Conv2d(512, 512, kernel_size=(3, 3), stride=(1, 1), padding=(1, 1))\n",
      "  (22): ReLU(inplace=True)\n",
      "  (23): MaxPool2d(kernel_size=2, stride=2, padding=0, dilation=1, ceil_mode=False)\n",
      "  (24): Conv2d(512, 512, kernel_size=(3, 3), stride=(1, 1), padding=(1, 1))\n",
      "  (25): ReLU(inplace=True)\n",
      "  (26): Conv2d(512, 512, kernel_size=(3, 3), stride=(1, 1), padding=(1, 1))\n",
      "  (27): ReLU(inplace=True)\n",
      "  (28): Conv2d(512, 512, kernel_size=(3, 3), stride=(1, 1), padding=(1, 1))\n",
      "  (29): ReLU(inplace=True)\n",
      "  (30): MaxPool2d(kernel_size=3, stride=1, padding=1, dilation=1, ceil_mode=False)\n",
      "  (31): Conv2d(512, 1024, kernel_size=(3, 3), stride=(1, 1), padding=(6, 6), dilation=(6, 6))\n",
      "  (32): ReLU(inplace=True)\n",
      "  (33): Conv2d(1024, 1024, kernel_size=(1, 1), stride=(1, 1))\n",
      "  (34): ReLU(inplace=True)\n",
      ")\n"
     ]
    }
   ],
   "source": [
    "vgg = create_vgg()\n",
    "print(vgg)"
   ],
   "metadata": {
    "collapsed": false,
    "pycharm": {
     "name": "#%%\n"
    }
   }
  },
  {
   "cell_type": "markdown",
   "source": [
    "Kiểm tra module extras"
   ],
   "metadata": {
    "collapsed": false
   }
  },
  {
   "cell_type": "code",
   "execution_count": 57,
   "outputs": [
    {
     "name": "stdout",
     "output_type": "stream",
     "text": [
      "ModuleList(\n",
      "  (0): Conv2d(1024, 256, kernel_size=(1, 1), stride=(1, 1))\n",
      "  (1): Conv2d(256, 512, kernel_size=(3, 3), stride=(2, 2), padding=(1, 1))\n",
      "  (2): Conv2d(512, 128, kernel_size=(1, 1), stride=(1, 1))\n",
      "  (3): Conv2d(128, 256, kernel_size=(3, 3), stride=(2, 2), padding=(1, 1))\n",
      "  (4): Conv2d(256, 128, kernel_size=(1, 1), stride=(1, 1))\n",
      "  (5): Conv2d(128, 256, kernel_size=(3, 3), stride=(1, 1))\n",
      "  (6): Conv2d(256, 128, kernel_size=(1, 1), stride=(1, 1))\n",
      "  (7): Conv2d(128, 256, kernel_size=(1, 1), stride=(1, 1))\n",
      ")\n"
     ]
    }
   ],
   "source": [
    "extras = create_extras()\n",
    "print (extras)"
   ],
   "metadata": {
    "collapsed": false,
    "pycharm": {
     "name": "#%%\n"
    }
   }
  },
  {
   "cell_type": "markdown",
   "source": [
    "Kiểm tra module loc"
   ],
   "metadata": {
    "collapsed": false
   }
  },
  {
   "cell_type": "code",
   "execution_count": 58,
   "outputs": [
    {
     "name": "stdout",
     "output_type": "stream",
     "text": [
      "ModuleList(\n",
      "  (0): Conv2d(512, 16, kernel_size=(3, 3), stride=(1, 1), padding=(1, 1))\n",
      "  (1): Conv2d(1024, 24, kernel_size=(3, 3), stride=(1, 1), padding=(1, 1))\n",
      "  (2): Conv2d(512, 24, kernel_size=(3, 3), stride=(1, 1), padding=(1, 1))\n",
      "  (3): Conv2d(256, 24, kernel_size=(3, 3), stride=(1, 1), padding=(1, 1))\n",
      "  (4): Conv2d(256, 16, kernel_size=(3, 3), stride=(1, 1), padding=(1, 1))\n",
      "  (5): Conv2d(256, 16, kernel_size=(3, 3), stride=(1, 1), padding=(1, 1))\n",
      ")\n"
     ]
    }
   ],
   "source": [
    "\n",
    "loc = create_loc(aspect_num=configs[\"aspect_num\"])\n",
    "print (loc)"
   ],
   "metadata": {
    "collapsed": false,
    "pycharm": {
     "name": "#%%\n"
    }
   }
  },
  {
   "cell_type": "markdown",
   "source": [
    "Kiểm tra module conf"
   ],
   "metadata": {
    "collapsed": false
   }
  },
  {
   "cell_type": "code",
   "execution_count": 59,
   "outputs": [
    {
     "name": "stdout",
     "output_type": "stream",
     "text": [
      "ModuleList(\n",
      "  (0): Conv2d(512, 84, kernel_size=(3, 3), stride=(1, 1), padding=(1, 1))\n",
      "  (1): Conv2d(1024, 126, kernel_size=(3, 3), stride=(1, 1), padding=(1, 1))\n",
      "  (2): Conv2d(512, 126, kernel_size=(3, 3), stride=(1, 1), padding=(1, 1))\n",
      "  (3): Conv2d(256, 126, kernel_size=(3, 3), stride=(1, 1), padding=(1, 1))\n",
      "  (4): Conv2d(256, 84, kernel_size=(3, 3), stride=(1, 1), padding=(1, 1))\n",
      "  (5): Conv2d(256, 84, kernel_size=(3, 3), stride=(1, 1), padding=(1, 1))\n",
      ")\n"
     ]
    }
   ],
   "source": [
    "conf = create_conf(configs[\"num_classes\"], configs[\"aspect_num\"])\n",
    "print(conf)"
   ],
   "metadata": {
    "collapsed": false,
    "pycharm": {
     "name": "#%%\n"
    }
   }
  },
  {
   "cell_type": "markdown",
   "source": [
    "## test class ssd"
   ],
   "metadata": {
    "collapsed": false
   }
  },
  {
   "cell_type": "code",
   "execution_count": 60,
   "outputs": [
    {
     "name": "stdout",
     "output_type": "stream",
     "text": [
      "SSD(\n",
      "  (vgg): ModuleList(\n",
      "    (0): Conv2d(3, 64, kernel_size=(3, 3), stride=(1, 1), padding=(1, 1))\n",
      "    (1): ReLU(inplace=True)\n",
      "    (2): Conv2d(64, 64, kernel_size=(3, 3), stride=(1, 1), padding=(1, 1))\n",
      "    (3): ReLU(inplace=True)\n",
      "    (4): MaxPool2d(kernel_size=2, stride=2, padding=0, dilation=1, ceil_mode=False)\n",
      "    (5): Conv2d(64, 128, kernel_size=(3, 3), stride=(1, 1), padding=(1, 1))\n",
      "    (6): ReLU(inplace=True)\n",
      "    (7): Conv2d(128, 128, kernel_size=(3, 3), stride=(1, 1), padding=(1, 1))\n",
      "    (8): ReLU(inplace=True)\n",
      "    (9): MaxPool2d(kernel_size=2, stride=2, padding=0, dilation=1, ceil_mode=False)\n",
      "    (10): Conv2d(128, 256, kernel_size=(3, 3), stride=(1, 1), padding=(1, 1))\n",
      "    (11): ReLU(inplace=True)\n",
      "    (12): Conv2d(256, 256, kernel_size=(3, 3), stride=(1, 1), padding=(1, 1))\n",
      "    (13): ReLU(inplace=True)\n",
      "    (14): Conv2d(256, 256, kernel_size=(3, 3), stride=(1, 1), padding=(1, 1))\n",
      "    (15): ReLU(inplace=True)\n",
      "    (16): MaxPool2d(kernel_size=2, stride=2, padding=0, dilation=1, ceil_mode=True)\n",
      "    (17): Conv2d(256, 512, kernel_size=(3, 3), stride=(1, 1), padding=(1, 1))\n",
      "    (18): ReLU(inplace=True)\n",
      "    (19): Conv2d(512, 512, kernel_size=(3, 3), stride=(1, 1), padding=(1, 1))\n",
      "    (20): ReLU(inplace=True)\n",
      "    (21): Conv2d(512, 512, kernel_size=(3, 3), stride=(1, 1), padding=(1, 1))\n",
      "    (22): ReLU(inplace=True)\n",
      "    (23): MaxPool2d(kernel_size=2, stride=2, padding=0, dilation=1, ceil_mode=False)\n",
      "    (24): Conv2d(512, 512, kernel_size=(3, 3), stride=(1, 1), padding=(1, 1))\n",
      "    (25): ReLU(inplace=True)\n",
      "    (26): Conv2d(512, 512, kernel_size=(3, 3), stride=(1, 1), padding=(1, 1))\n",
      "    (27): ReLU(inplace=True)\n",
      "    (28): Conv2d(512, 512, kernel_size=(3, 3), stride=(1, 1), padding=(1, 1))\n",
      "    (29): ReLU(inplace=True)\n",
      "    (30): MaxPool2d(kernel_size=3, stride=1, padding=1, dilation=1, ceil_mode=False)\n",
      "    (31): Conv2d(512, 1024, kernel_size=(3, 3), stride=(1, 1), padding=(6, 6), dilation=(6, 6))\n",
      "    (32): ReLU(inplace=True)\n",
      "    (33): Conv2d(1024, 1024, kernel_size=(1, 1), stride=(1, 1))\n",
      "    (34): ReLU(inplace=True)\n",
      "  )\n",
      "  (extras): ModuleList(\n",
      "    (0): Conv2d(1024, 256, kernel_size=(1, 1), stride=(1, 1))\n",
      "    (1): Conv2d(256, 512, kernel_size=(3, 3), stride=(2, 2), padding=(1, 1))\n",
      "    (2): Conv2d(512, 128, kernel_size=(1, 1), stride=(1, 1))\n",
      "    (3): Conv2d(128, 256, kernel_size=(3, 3), stride=(2, 2), padding=(1, 1))\n",
      "    (4): Conv2d(256, 128, kernel_size=(1, 1), stride=(1, 1))\n",
      "    (5): Conv2d(128, 256, kernel_size=(3, 3), stride=(1, 1))\n",
      "    (6): Conv2d(256, 128, kernel_size=(1, 1), stride=(1, 1))\n",
      "    (7): Conv2d(128, 256, kernel_size=(1, 1), stride=(1, 1))\n",
      "  )\n",
      "  (loc): ModuleList(\n",
      "    (0): Conv2d(512, 16, kernel_size=(3, 3), stride=(1, 1), padding=(1, 1))\n",
      "    (1): Conv2d(1024, 24, kernel_size=(3, 3), stride=(1, 1), padding=(1, 1))\n",
      "    (2): Conv2d(512, 24, kernel_size=(3, 3), stride=(1, 1), padding=(1, 1))\n",
      "    (3): Conv2d(256, 24, kernel_size=(3, 3), stride=(1, 1), padding=(1, 1))\n",
      "    (4): Conv2d(256, 16, kernel_size=(3, 3), stride=(1, 1), padding=(1, 1))\n",
      "    (5): Conv2d(256, 16, kernel_size=(3, 3), stride=(1, 1), padding=(1, 1))\n",
      "  )\n",
      "  (conf): ModuleList(\n",
      "    (0): Conv2d(512, 84, kernel_size=(3, 3), stride=(1, 1), padding=(1, 1))\n",
      "    (1): Conv2d(1024, 126, kernel_size=(3, 3), stride=(1, 1), padding=(1, 1))\n",
      "    (2): Conv2d(512, 126, kernel_size=(3, 3), stride=(1, 1), padding=(1, 1))\n",
      "    (3): Conv2d(256, 126, kernel_size=(3, 3), stride=(1, 1), padding=(1, 1))\n",
      "    (4): Conv2d(256, 84, kernel_size=(3, 3), stride=(1, 1), padding=(1, 1))\n",
      "    (5): Conv2d(256, 84, kernel_size=(3, 3), stride=(1, 1), padding=(1, 1))\n",
      "  )\n",
      "  (l2norm): L2Norm()\n",
      ")\n"
     ]
    }
   ],
   "source": [
    "ssd = SSD(phase=\"train\" , configs = configs)\n",
    "print(ssd)"
   ],
   "metadata": {
    "collapsed": false,
    "pycharm": {
     "name": "#%%\n"
    }
   }
  }
 ],
 "metadata": {
  "kernelspec": {
   "display_name": "Python 3",
   "language": "python",
   "name": "python3"
  },
  "language_info": {
   "codemirror_mode": {
    "name": "ipython",
    "version": 2
   },
   "file_extension": ".py",
   "mimetype": "text/x-python",
   "name": "python",
   "nbconvert_exporter": "python",
   "pygments_lexer": "ipython2",
   "version": "2.7.6"
  }
 },
 "nbformat": 4,
 "nbformat_minor": 0
}
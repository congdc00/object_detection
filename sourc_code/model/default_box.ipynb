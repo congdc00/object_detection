{
 "cells": [
  {
   "cell_type": "markdown",
   "source": [
    " # Creat default box\n",
    " Tạo ra 8732 default box"
   ],
   "metadata": {
    "collapsed": false
   }
  },
  {
   "cell_type": "code",
   "execution_count": 18,
   "metadata": {
    "collapsed": true
   },
   "outputs": [],
   "source": [
    "from lib_all import *\n",
    "from config import get_config\n",
    "cfg = get_config()\n"
   ]
  },
  {
   "cell_type": "code",
   "execution_count": 19,
   "outputs": [],
   "source": [
    "class DefBox():\n",
    "    def __init__(self, cfg):\n",
    "        self.img_size = cfg[\"input_size\"]\n",
    "        self.feature_maps = cfg[\"feature_maps\"]\n",
    "        self.min_size = cfg[\"min_size\"]\n",
    "        self.max_size = cfg[\"max_size\"]\n",
    "        self.aspect_ratios = cfg[\"aspect_ratios\"]\n",
    "        self.steps = cfg[\"steps\"]\n",
    "\n",
    "    def create_defbox(self):\n",
    "        \"\"\"\n",
    "        :return: [8732, 4]\n",
    "        \"\"\"\n",
    "        defbox_list = []\n",
    "\n",
    "        for index, size_grid in enumerate(self.feature_maps):\n",
    "            for i, j in itertools.product(range(size_grid), repeat=2):\n",
    "                f_k = self.img_size / self.steps[index]\n",
    "                cx = (j+0.5)/f_k\n",
    "                cy = (i+0.5)/f_k\n",
    "\n",
    "                # small square box\n",
    "                scale = self.min_size[index]/self.img_size #first case: 30/300\n",
    "                defbox_list += [cx, cy, scale, scale]\n",
    "\n",
    "                # big square box\n",
    "                scale_ = sqrt(scale*(self.max_size[index]/self.img_size))\n",
    "                defbox_list += [cx, cy, scale_, scale_]\n",
    "\n",
    "                for ar in self.aspect_ratios[index]:\n",
    "                    defbox_list += [cx, cy, scale*sqrt(ar), scale/sqrt(ar)]\n",
    "                    defbox_list += [cx, cy, scale/sqrt(ar), scale*sqrt(ar)]\n",
    "\n",
    "        output = torch.Tensor(defbox_list).view(-1, 4)\n",
    "        output.clamp_(max = 1, min=0)\n",
    "\n",
    "        return output"
   ],
   "metadata": {
    "collapsed": false,
    "pycharm": {
     "name": "#%%\n"
    }
   }
  },
  {
   "cell_type": "markdown",
   "source": [
    "# Test"
   ],
   "metadata": {
    "collapsed": false
   }
  },
  {
   "cell_type": "code",
   "execution_count": 20,
   "outputs": [
    {
     "name": "stdout",
     "output_type": "stream",
     "text": [
      "torch.Size([8732, 4])\n"
     ]
    }
   ],
   "source": [
    "defbox = DefBox(cfg)\n",
    "dbox_list = defbox.create_defbox()\n",
    "print(dbox_list.shape)\n",
    "    # print(pd.DataFrame(dbox_list.numpy()))"
   ],
   "metadata": {
    "collapsed": false,
    "pycharm": {
     "name": "#%%\n"
    }
   }
  }
 ],
 "metadata": {
  "kernelspec": {
   "display_name": "Python 3",
   "language": "python",
   "name": "python3"
  },
  "language_info": {
   "codemirror_mode": {
    "name": "ipython",
    "version": 2
   },
   "file_extension": ".py",
   "mimetype": "text/x-python",
   "name": "python",
   "nbconvert_exporter": "python",
   "pygments_lexer": "ipython2",
   "version": "2.7.6"
  }
 },
 "nbformat": 4,
 "nbformat_minor": 0
}
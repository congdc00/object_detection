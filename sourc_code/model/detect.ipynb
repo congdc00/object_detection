{
 "cells": [
  {
   "cell_type": "markdown",
   "source": [],
   "metadata": {
    "collapsed": false
   }
  },
  {
   "cell_type": "code",
   "execution_count": 1,
   "metadata": {
    "collapsed": true
   },
   "outputs": [],
   "source": [
    "from lib_all import *"
   ]
  },
  {
   "cell_type": "markdown",
   "source": [
    "## Xây dựng hàm decode"
   ],
   "metadata": {
    "collapsed": false
   }
  },
  {
   "cell_type": "code",
   "execution_count": 2,
   "outputs": [],
   "source": [
    "def decode(default_boxes, offsets):\n",
    "    \"\"\"\n",
    "    :param default_boxes:[8732, 4]\n",
    "    :param offsets: [8732, 4]  trong do 4 la delta cx, delta cy, delta h, delta w\n",
    "    :return: [8732, 4] cac thong so bbox\n",
    "    \"\"\"\n",
    "    #tinh cx, cy, h, w\n",
    "    boxes = torch.cat(\n",
    "        default_boxes[:,:2]( 1 +  0.1 * offsets[:,:2]),\n",
    "        default_boxes[:,2:]*torch.exp(0.2*offsets[:,2:]),\n",
    "        dim = 1 #cat theo hang ngang\n",
    "    )\n",
    "    # chuyen ve dang x_min, y_min, x_max, y_max\n",
    "    boxes [:, :2]  -= boxes[:, 2:] # x_min, y_ min\n",
    "    boxes[:, 2:] +=boxes[:,:2]\n",
    "    return boxes"
   ],
   "metadata": {
    "collapsed": false,
    "pycharm": {
     "name": "#%%\n"
    }
   }
  },
  {
   "cell_type": "markdown",
   "source": [
    "## Xây dựng hàm non-maximum-superestion"
   ],
   "metadata": {
    "collapsed": false
   }
  },
  {
   "cell_type": "markdown",
   "source": [
    "Loại đi những cái không phải độ tự tin cao nhất"
   ],
   "metadata": {
    "collapsed": false
   }
  },
  {
   "cell_type": "code",
   "execution_count": 3,
   "outputs": [],
   "source": [
    "def nms(boxes, confident, threshold = 0.45, top_k = 200):\n",
    "    \"\"\"\n",
    "    :param boxes: [8732, 4] cac thong so bbox\n",
    "    :param confident: [8732] do tu tin cua tung bbox\n",
    "    :param threshold: nguong overlap\n",
    "    :param top_k:\n",
    "    :return: tensor\n",
    "    \"\"\"\n",
    "    count = 0\n",
    "    keep = confident.new(confident.size()).zero_().long() # tensor_type giong confident, so chieu confident.size(), toan bo la so 0, kieu long\n",
    "\n",
    "    # thong so box\n",
    "    x_min = boxes[:, 0]\n",
    "    y_min = boxes[:, 1]\n",
    "    x_max = boxes[:, 2]\n",
    "    y_max = boxes[:, 3]\n",
    "    area = torch.mul((x_max-x_min),(y_max-y_min))\n",
    "\n",
    "    tmp_x_min = boxes.new()\n",
    "    tmp_y_min = boxes.new()\n",
    "    tmp_x_max = boxes.new()\n",
    "    tmp_y_max = boxes.new()\n",
    "    tmp_w = boxes.new()\n",
    "    tmp_h = boxes.new()\n",
    "\n",
    "    value, index = confident.sort(0)\n",
    "    index = index[-top_k:] # lay ra 200 cai cuoi co do tu tin cao nhat\n",
    "\n",
    "    while index.numel() > 0:\n",
    "        index_box_max = index[-1]\n",
    "\n",
    "        #Luu bien lon nhat\n",
    "        keep[count] = index_box_max\n",
    "        count +=1\n",
    "\n",
    "        if index.size(0) == 1: # neu chi con 1 phan tu thi khong con gi de ma so sanh\n",
    "            break\n",
    "\n",
    "        index = inden[:-1] # loai bo box co confident cao nhat\n",
    "\n",
    "        #infomation boxes\n",
    "        torch.index_select(x_min, 0 , index, out=tmp_x_min) # =lay gia tri x_min o vi tri index\n",
    "        torch.index_select(y_min, 0 , index, out=tmp_y_min)\n",
    "        torch.index_select(x_max, 0, index, out=tmp_x_max)\n",
    "        torch.index_select(y_max, 0, index,out=tmp_y_max)\n",
    "\n",
    "        #infomation supression\n",
    "        tmp_x_min = torch.clamp(tmp_x_min, min=x_min[index]) # =x_min neu tmp_x_min < x_min[index]\n",
    "        tmp_y_min = torch.clamp(tmp_y_min, min=y_min[index])\n",
    "        tmp_x_max = torch.clamp(tmp_x_max, max=x_max[index])\n",
    "        tmp_y_max = torch.clamp(tmp_y_max, max=y_max[index])\n",
    "\n",
    "        #chuyen ve tensor co size ma index duoc giam di 1\n",
    "        tmp_h.resize_as_(tmp_y_max)\n",
    "        tmp_w.resize_as_(tmp_x_max)\n",
    "\n",
    "        tmp_w = tmp_x_max - tmp_x_min\n",
    "        tmp_h = tmp_y_max - tmp_y_min\n",
    "\n",
    "        tmp_w = torch.clamp(tmp_w, min=0.0)\n",
    "        tmp_h = torch.clamp(tmp_h, min=0.0)\n",
    "\n",
    "        area_of_overlap = tmp_w*tmp_h\n",
    "\n",
    "        others_area = torch.index_select(area, 0, index)\n",
    "\n",
    "        area_of_union = area[index_box_max] + others_area - area_of_union\n",
    "\n",
    "        iou = area_of_overlap/area_of_union\n",
    "\n",
    "        #loai bo iou cao\n",
    "        index = index[iou.le(threshold)]\n",
    "    return keep, count"
   ],
   "metadata": {
    "collapsed": false,
    "pycharm": {
     "name": "#%%\n"
    }
   }
  },
  {
   "cell_type": "markdown",
   "source": [
    "# Xây dựng class Detect"
   ],
   "metadata": {
    "collapsed": false
   }
  },
  {
   "cell_type": "code",
   "execution_count": 4,
   "outputs": [],
   "source": [
    "class Detect(Function): # Ke thua tu class function de khi goi ham ra tu dong chay ham so forward ben trong\n",
    "    #contructor\n",
    "    def __init__(self, confident_thresh = 0.01, top_k = 200, nms_thresh = 0.45):\n",
    "        self.softmax = nn.Softmax()\n",
    "        self.confident_thresh = confident_thresh\n",
    "        self.top_k = top_k\n",
    "        self.nms_thresh = nms_thresh\n",
    "\n",
    "    def forward(self, loc_data, conf_data, dbox_list):\n",
    "        \"\"\"\n",
    "        :param loc_data: dung de tinh decode\n",
    "        :param conf_data: do tu tin cua data do\n",
    "        :param dbox_list:\n",
    "        :return:\n",
    "        \"\"\"\n",
    "        num_batch = loc_data.size(0) #batch size\n",
    "        num_dbox = loc_data.size(1) # 8732\n",
    "        num_classe = conf_data.size(2) #21\n",
    "\n",
    "        conf_data = self.softmax(conf_data) # (num_batch, num_dbox, num_classes) -> (num_batch, num_classes, num_dbox)\n",
    "        conf_preds = conf_data.transpose\n",
    "\n",
    "        #xu ly anh trong 1 batch cac buc anh\n",
    "        for index in range(num_batch):\n",
    "            # Tinh bbox tu offset infomation va default box\n",
    "            decode_boxes = decode(dbox_list, loc_data[index])\n",
    "            # Copy conference cua anh thu i\n",
    "            conf_score = conf_preds[index].clone()\n",
    "\n",
    "            #tao hop rong\n",
    "            output = torch.zeros(num_batch, num_classe, self.top_k, 5)\n",
    "            for index_class in range(1, num_classe):\n",
    "                c_mask = conf_score[index_class].gt(self.confident_thresh) #list [0,1,...] lay nhung cai conf > 0.01\n",
    "                score = conf_score[index_class][c_mask]\n",
    "\n",
    "                # neu khong co phan tu thi thoi khong tinh nua\n",
    "                if score.nelement() == 0: #numel()\n",
    "                    continue\n",
    "\n",
    "                #dua chieu ve giong chieu decode_boxes de tinh toan\n",
    "                l_mask = c_mask.unsquzee(1).expand_as(decode_boxes) #(8732,4)\n",
    "                boxes = decode_boxes[l_mask].view(-1,4)\n",
    "                index, num_object = nms(boxes, score, self.nms_thresh, self.top_k)\n",
    "\n",
    "                output[index, num_classe, :num_object] = torch.cat((score[index_class[:num_object]].unsqueeze(1), boxes[index_class[:num_object]]), 1) #cat cac phan tu theo chieu ngang \n",
    "        return output"
   ],
   "metadata": {
    "collapsed": false,
    "pycharm": {
     "name": "#%%\n"
    }
   }
  }
 ],
 "metadata": {
  "kernelspec": {
   "display_name": "Python 3",
   "language": "python",
   "name": "python3"
  },
  "language_info": {
   "codemirror_mode": {
    "name": "ipython",
    "version": 2
   },
   "file_extension": ".py",
   "mimetype": "text/x-python",
   "name": "python",
   "nbconvert_exporter": "python",
   "pygments_lexer": "ipython2",
   "version": "2.7.6"
  }
 },
 "nbformat": 4,
 "nbformat_minor": 0
}
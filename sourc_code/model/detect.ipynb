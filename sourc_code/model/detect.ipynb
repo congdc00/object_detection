{
 "cells": [
  {
   "cell_type": "markdown",
   "source": [],
   "metadata": {
    "collapsed": false
   }
  },
  {
   "cell_type": "code",
   "execution_count": 7,
   "metadata": {
    "collapsed": true
   },
   "outputs": [],
   "source": [
    "import torch\n",
    "\n",
    "from lib_all import *"
   ]
  },
  {
   "cell_type": "markdown",
   "source": [
    "## Xây dựng hàm decode"
   ],
   "metadata": {
    "collapsed": false
   }
  },
  {
   "cell_type": "code",
   "execution_count": 8,
   "outputs": [],
   "source": [
    "def decode(default_boxes, offsets):\n",
    "    \"\"\"\n",
    "    :param default_boxes:[8732, 4]\n",
    "    :param offsets: [8732, 4]  trong do 4 la delta cx, delta cy, delta h, delta w\n",
    "    :return: [8732, 4] cac thong so bbox\n",
    "    \"\"\"\n",
    "    #tinh cx, cy, h, w\n",
    "    boxes = torch.cat(\n",
    "        default_boxes[:,:2]( 1 +  0.1 * offsets[:,:2]),\n",
    "        default_boxes[:,2:]*torch.exp(0.2*offsets[:,2:]),\n",
    "        dim = 1 #cat theo hang ngang\n",
    "    )\n",
    "    # chuyen ve dang x_min, y_min, x_max, y_max\n",
    "    boxes [:, :2]  -= boxes[:, 2:] # x_min, y_ min\n",
    "    boxes[:, 2:] +=boxes[:,:2]\n",
    "    return boxes"
   ],
   "metadata": {
    "collapsed": false,
    "pycharm": {
     "name": "#%%\n"
    }
   }
  },
  {
   "cell_type": "markdown",
   "source": [
    "## Xây dựng hàm non-maximum-superestion"
   ],
   "metadata": {
    "collapsed": false
   }
  },
  {
   "cell_type": "markdown",
   "source": [
    "Loại đi những cái không phải độ tự tin cao nhất"
   ],
   "metadata": {
    "collapsed": false
   }
  },
  {
   "cell_type": "code",
   "execution_count": 9,
   "outputs": [],
   "source": [
    "def nms(boxes, confident, threshold = 0.45, top_k = 200):\n",
    "    \"\"\"\n",
    "    :param boxes: [8732, 4] cac thong so bbox\n",
    "    :param confident: [8732] do tu tin cua tung bbox\n",
    "    :param threshold: nguong overlap\n",
    "    :param top_k:\n",
    "    :return: tensor\n",
    "    \"\"\"\n",
    "    count = 0\n",
    "    keep = confident.new(confident.size()).zero_().long() # tensor_type giong confident, so chieu confident.size(), toan bo la so 0, kieu long\n",
    "\n",
    "    # thong so box\n",
    "    x_min = boxes[:, 0]\n",
    "    y_min = boxes[:, 1]\n",
    "    x_max = boxes[:, 2]\n",
    "    y_max = boxes[:, 3]\n",
    "    area = torch.mul((x_max-x_min),(y_max-y_min))\n",
    "\n",
    "    tmp_x_min = boxes.new()\n",
    "    tmp_y_min = boxes.new()\n",
    "    tmp_x_max = boxes.new()\n",
    "    tmp_x_max = boxes.new()\n",
    "    tmp_w = boxes.new()\n",
    "    tmp_h = boxes.new()\n",
    "\n",
    "    value, index = confident.sort(0)\n",
    "    index = index[-top_k:] # lay ra 200 cai cuoi co do tu tin cao nhat\n",
    "\n",
    "    while index.numel() > 0:\n",
    "        #Luu bien lon nhat\n",
    "        keep[count] = index[-1]\n",
    "        count +=1\n",
    "\n",
    "        if index.size(0) == 1: # neu chi con 1 phan tu thi khong con gi de ma so sanh\n",
    "            break\n",
    "\n",
    "        index = inden[:-1] # loai bo box co confident cao nhat"
   ],
   "metadata": {
    "collapsed": false,
    "pycharm": {
     "name": "#%%\n"
    }
   }
  },
  {
   "cell_type": "code",
   "execution_count": 10,
   "outputs": [],
   "source": [],
   "metadata": {
    "collapsed": false,
    "pycharm": {
     "name": "#%%\n"
    }
   }
  }
 ],
 "metadata": {
  "kernelspec": {
   "display_name": "Python 3",
   "language": "python",
   "name": "python3"
  },
  "language_info": {
   "codemirror_mode": {
    "name": "ipython",
    "version": 2
   },
   "file_extension": ".py",
   "mimetype": "text/x-python",
   "name": "python",
   "nbconvert_exporter": "python",
   "pygments_lexer": "ipython2",
   "version": "2.7.6"
  }
 },
 "nbformat": 4,
 "nbformat_minor": 0
}
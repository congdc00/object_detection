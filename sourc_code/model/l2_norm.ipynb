{
 "cells": [
  {
   "cell_type": "code",
   "execution_count": null,
   "outputs": [],
   "source": [
    "from lib_all import *"
   ],
   "metadata": {
    "collapsed": false,
    "pycharm": {
     "name": "#%%\n"
    }
   }
  },
  {
   "cell_type": "markdown",
   "source": [
    "# Lớp chuẩn hóa L2"
   ],
   "metadata": {
    "collapsed": false
   }
  },
  {
   "cell_type": "markdown",
   "source": [
    "Constructor:\n",
    "- scale: Hệ số để nhân với các channel"
   ],
   "metadata": {
    "collapsed": false
   }
  },
  {
   "cell_type": "markdown",
   "source": [],
   "metadata": {
    "collapsed": false
   }
  },
  {
   "cell_type": "code",
   "execution_count": 2,
   "metadata": {
    "collapsed": true,
    "pycharm": {
     "name": "#%%\n"
    }
   },
   "outputs": [
    {
     "ename": "IndentationError",
     "evalue": "expected an indented block (Temp/ipykernel_19396/2550235126.py, line 2)",
     "output_type": "error",
     "traceback": [
      "\u001B[1;36m  File \u001B[1;32m\"C:\\Users\\DINHCH~1\\AppData\\Local\\Temp/ipykernel_19396/2550235126.py\"\u001B[1;36m, line \u001B[1;32m2\u001B[0m\n\u001B[1;33m    def __init__(input_channels = 512):\u001B[0m\n\u001B[1;37m                                       ^\u001B[0m\n\u001B[1;31mIndentationError\u001B[0m\u001B[1;31m:\u001B[0m expected an indented block\n"
     ]
    }
   ],
   "source": [
    "class L2Norm (nn.Module):\n",
    "    def __init__(self, input_channels = 512, scale = 20):\n",
    "        super(L2Norm, self).__init__()\n",
    "        #khoi tao list tham so\n",
    "        self.weight =  nn.Parameter(torch.Tensor(input_channels))\n",
    "        self.scale  = scale\n",
    "        self.reset_parameters()\n",
    "        self.eps = 1e-10\n",
    "\n",
    "    def reset_parameters(self):\n",
    "        # gan tat ca weidht = scale het\n",
    "        init.constant_(self.weight, self.scale):\n",
    "\n",
    "\n",
    "    #input_l2norm.size() = (batch_size, chanenel, height, width)\n",
    "    def  forward(self, input_l2norm):\n",
    "        # L2Norm\n",
    "        l2norm = input_l2norm.pow(2).sum(dim = 1, keep_dim = True).sqrt() + self.eps # keep dim: giu nguyen chieu cua batch_size, height, width\n",
    "        output_l2norm = torch.div(input_l2norm, l2norm)\n",
    "\n",
    "        # weights [512] se chuyen thanh [1,512,1,1] -> (batch_size, chanenel, height, width)\n",
    "        weights = self.weight.unsqueeze(0).unsqueeze(2).unsqueeze(3).expand_as(output_l2norm)\n",
    "\n",
    "        return output_l2norm*weights"
   ]
  }
 ],
 "metadata": {
  "kernelspec": {
   "display_name": "Python 3",
   "language": "python",
   "name": "python3"
  },
  "language_info": {
   "codemirror_mode": {
    "name": "ipython",
    "version": 2
   },
   "file_extension": ".py",
   "mimetype": "text/x-python",
   "name": "python",
   "nbconvert_exporter": "python",
   "pygments_lexer": "ipython2",
   "version": "2.7.6"
  }
 },
 "nbformat": 4,
 "nbformat_minor": 0
}
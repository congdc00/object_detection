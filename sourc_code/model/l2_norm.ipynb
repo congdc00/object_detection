{
 "cells": [
  {
   "cell_type": "markdown",
   "source": [],
   "metadata": {
    "collapsed": false
   }
  },
  {
   "cell_type": "code",
   "execution_count": null,
   "outputs": [],
   "source": [
    "from lib_all import *"
   ],
   "metadata": {
    "collapsed": false,
    "pycharm": {
     "name": "#%%\n"
    }
   }
  },
  {
   "cell_type": "code",
   "execution_count": null,
   "metadata": {
    "collapsed": true
   },
   "outputs": [],
   "source": [
    "class L2Norm(nn.Module):\n",
    "    def __init__(self, input_channels=512, scale=20): # scale là trọng số của từng lát cắt\n",
    "        super(L2Norm, self).__init__()\n",
    "        self.weight = nn.Parameter(torch.Tensor(input_channels))\n",
    "        self.scale = scale # làm thông số khởi tạo cho thằng weight bên trên\n",
    "        self.reset_parameters()\n",
    "        self.eps = 1e-10\n",
    "\n",
    "    def reset_parameters(self):\n",
    "        nn.init.constant_(self.weight, self.scale) # để tất cả cái weight là 20 tất\n",
    "\n",
    "    def forward(self, x):\n",
    "        \"\"\"\n",
    "        :param x: (batch_size, chanenel, height, width)\n",
    "        :return:\n",
    "        \"\"\"\n",
    "\n",
    "        # L2Norm trên từng layer\n",
    "        norm = x.pow(2).sum(dim=1, keepdim=True).sqrt() + self.eps\n",
    "        x = torch.div(x, norm)\n",
    "\n",
    "        # normalize trên toàn bộ layer\n",
    "        #weight.size() = (512) -> (1,512,1,1)\n",
    "        weights = self.weight.unsqueeze(0).unsqueeze(2).unsqueeze(3).expand_as(x)\n",
    "\n",
    "        return weights*x"
   ]
  }
 ],
 "metadata": {
  "kernelspec": {
   "display_name": "Python 3",
   "language": "python",
   "name": "python3"
  },
  "language_info": {
   "codemirror_mode": {
    "name": "ipython",
    "version": 2
   },
   "file_extension": ".py",
   "mimetype": "text/x-python",
   "name": "python",
   "nbconvert_exporter": "python",
   "pygments_lexer": "ipython2",
   "version": "2.7.6"
  }
 },
 "nbformat": 4,
 "nbformat_minor": 0
}
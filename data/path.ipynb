{
 "cells": [
  {
   "cell_type": "markdown",
   "source": [
    "# Lấy đường dẫn tới train và val"
   ],
   "metadata": {
    "collapsed": false
   }
  },
  {
   "cell_type": "code",
   "execution_count": 1,
   "outputs": [],
   "source": [
    "from lib_all import *"
   ],
   "metadata": {
    "collapsed": false,
    "pycharm": {
     "name": "#%%\n"
    }
   }
  },
  {
   "cell_type": "code",
   "execution_count": 2,
   "metadata": {
    "collapsed": true
   },
   "outputs": [],
   "source": [
    "#Các path là các đường dẫn tới ảnh\n",
    "def get_path(root_path ):\n",
    "\n",
    "    #path dẫn đến ảnh và annotation\n",
    "    image_path_template = os.path.join(root_path, \"JPEGImages\", \"%s.jpg\")\n",
    "    annotation_path_template = os.path.join(root_path, \"Annotations\" , \"%s.xml\")\n",
    "    #path dẫn đến link của phần train và test\n",
    "    train_id_names = os.path.join(root_path, \"ImageSets/Main/train.txt\")\n",
    "    val_id_names = os.path.join(root_path, \"ImageSets/Main/val.txt\")\n",
    "\n",
    "    #tạo list chứa path image và annotation\n",
    "    train_images_path = []\n",
    "    train_annotations_path = []\n",
    "    val_images_path = []\n",
    "    val_annotations_path = []\n",
    "\n",
    "    # phần train\n",
    "    for line in open(train_id_names):\n",
    "        #  xóa các ký tự space và các ký tự xuống dòng\n",
    "        name_img = line.strip()\n",
    "\n",
    "        img_path = (image_path_template % name_img)\n",
    "        train_images_path.append(img_path)\n",
    "\n",
    "        anno_path = (annotation_path_template % name_img)\n",
    "        train_annotations_path.append(anno_path)\n",
    "\n",
    "    #phần val\n",
    "    for line in open(val_id_names):\n",
    "        name_img = line.strip()\n",
    "\n",
    "        img_path = (image_path_template % name_img)\n",
    "        val_images_path.append(img_path)\n",
    "\n",
    "        anno_path = (annotation_path_template % name_img)\n",
    "        val_annotations_path.append(anno_path)\n",
    "\n",
    "    return train_images_path, train_annotations_path, val_images_path, val_annotations_path\n"
   ]
  },
  {
   "cell_type": "markdown",
   "source": [
    "### Test"
   ],
   "metadata": {
    "collapsed": false
   }
  },
  {
   "cell_type": "code",
   "execution_count": 3,
   "outputs": [],
   "source": [
    "if __name__ == \"__main__\":\n",
    "    root_path = './data_set/VOCdevkit/VOC2012/'\n",
    "    train_images_path, train_annotations_path, val_images_path, val_annotations_path = get_path(root_path)"
   ],
   "metadata": {
    "collapsed": false,
    "pycharm": {
     "name": "#%%\n"
    }
   }
  },
  {
   "cell_type": "code",
   "execution_count": 4,
   "outputs": [
    {
     "name": "stdout",
     "output_type": "stream",
     "text": [
      "./data_set/VOCdevkit/VOC2012/JPEGImages\\2008_000008.jpg\n"
     ]
    }
   ],
   "source": [
    "print(train_images_path[0])"
   ],
   "metadata": {
    "collapsed": false,
    "pycharm": {
     "name": "#%%\n"
    }
   }
  },
  {
   "cell_type": "code",
   "execution_count": 5,
   "outputs": [
    {
     "name": "stdout",
     "output_type": "stream",
     "text": [
      "5717\n"
     ]
    }
   ],
   "source": [
    "print(len(train_images_path))"
   ],
   "metadata": {
    "collapsed": false,
    "pycharm": {
     "name": "#%%\n"
    }
   }
  }
 ],
 "metadata": {
  "kernelspec": {
   "display_name": "Python 3",
   "language": "python",
   "name": "python3"
  },
  "language_info": {
   "codemirror_mode": {
    "name": "ipython",
    "version": 2
   },
   "file_extension": ".py",
   "mimetype": "text/x-python",
   "name": "python",
   "nbconvert_exporter": "python",
   "pygments_lexer": "ipython2",
   "version": "2.7.6"
  }
 },
 "nbformat": 4,
 "nbformat_minor": 0
}
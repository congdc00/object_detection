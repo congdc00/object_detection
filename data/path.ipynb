{
 "cells": [
  {
   "cell_type": "markdown",
   "source": [
    "# Make data path\n",
    "Nhiệm vụ: Lấy đường dẫn tới train và val"
   ],
   "metadata": {
    "collapsed": false
   }
  },
  {
   "cell_type": "markdown",
   "source": [
    "Thêm thư viện"
   ],
   "metadata": {
    "collapsed": false
   }
  },
  {
   "cell_type": "code",
   "execution_count": 1,
   "outputs": [],
   "source": [
    "from lib_all import *"
   ],
   "metadata": {
    "collapsed": false,
    "pycharm": {
     "name": "#%%\n"
    }
   }
  },
  {
   "cell_type": "markdown",
   "source": [
    "# I. Get path"
   ],
   "metadata": {
    "collapsed": false
   }
  },
  {
   "cell_type": "markdown",
   "source": [
    "Xây dựng hàm get_path lấy đường dẫn tới các img và annotation"
   ],
   "metadata": {
    "collapsed": false
   }
  },
  {
   "cell_type": "code",
   "execution_count": 2,
   "metadata": {
    "collapsed": true
   },
   "outputs": [],
   "source": [
    "def get_path(root_path):\n",
    "    \"\"\"\n",
    "    :param root_path: đường dẫn tới khu vực chứa data (VOC2012)\n",
    "    :return: [num_img_train, num_anno_train, num_img_val, num_anno_val]\n",
    "    \"\"\"\n",
    "    #path dẫn đến ảnh và annotation\n",
    "    root_image_path = os.path.join(root_path, \"JPEGImages\", \"%s.jpg\")\n",
    "    root_annotation_path = os.path.join(root_path, \"Annotations\" , \"%s.xml\")\n",
    "\n",
    "    #path dẫn đến nơi chứa name của train và test\n",
    "    list_name_train = os.path.join(root_path, \"ImageSets/Main/train.txt\")\n",
    "    list_name_val = os.path.join(root_path, \"ImageSets/Main/val.txt\")\n",
    "\n",
    "    #tạo list chứa path image và annotation\n",
    "    train_images_path = []\n",
    "    train_annotations_path = []\n",
    "    val_images_path = []\n",
    "    val_annotations_path = []\n",
    "\n",
    "    # phần train\n",
    "    for line in open(list_name_train):\n",
    "        #  xóa các ký tự space và các ký tự xuống dòng\n",
    "        name_img = line.strip()\n",
    "\n",
    "        img_path = (root_image_path % name_img)\n",
    "        train_images_path.append(img_path)\n",
    "\n",
    "        anno_path = (root_annotation_path % name_img)\n",
    "        train_annotations_path.append(anno_path)\n",
    "\n",
    "    #phần val\n",
    "    for line in open(list_name_val):\n",
    "        name_img = line.strip()\n",
    "\n",
    "        img_path = (root_image_path % name_img)\n",
    "        val_images_path.append(img_path)\n",
    "\n",
    "        anno_path = (root_annotation_path % name_img)\n",
    "        val_annotations_path.append(anno_path)\n",
    "\n",
    "    return train_images_path, train_annotations_path, val_images_path, val_annotations_path\n"
   ]
  },
  {
   "cell_type": "markdown",
   "source": [
    "# Test"
   ],
   "metadata": {
    "collapsed": false
   }
  },
  {
   "cell_type": "code",
   "execution_count": 3,
   "outputs": [],
   "source": [
    "root_path = './data_set/VOCdevkit/VOC2012/'\n",
    "train_images_path, train_annotations_path, val_images_path, val_annotations_path = get_path(root_path)"
   ],
   "metadata": {
    "collapsed": false,
    "pycharm": {
     "name": "#%%\n"
    }
   }
  },
  {
   "cell_type": "markdown",
   "source": [
    "đường dẫn tới ảnh"
   ],
   "metadata": {
    "collapsed": false
   }
  },
  {
   "cell_type": "code",
   "execution_count": 4,
   "outputs": [
    {
     "name": "stdout",
     "output_type": "stream",
     "text": [
      "./data_set/VOCdevkit/VOC2012/JPEGImages\\2008_000008.jpg\n"
     ]
    }
   ],
   "source": [
    "print(train_images_path[0])"
   ],
   "metadata": {
    "collapsed": false,
    "pycharm": {
     "name": "#%%\n"
    }
   }
  },
  {
   "cell_type": "code",
   "execution_count": 6,
   "outputs": [
    {
     "name": "stdout",
     "output_type": "stream",
     "text": [
      "5717\n"
     ]
    }
   ],
   "source": [
    "print(len(train_images_path))"
   ],
   "metadata": {
    "collapsed": false,
    "pycharm": {
     "name": "#%%\n"
    }
   }
  },
  {
   "cell_type": "code",
   "execution_count": null,
   "outputs": [],
   "source": [],
   "metadata": {
    "collapsed": false,
    "pycharm": {
     "name": "#%%\n"
    }
   }
  }
 ],
 "metadata": {
  "kernelspec": {
   "display_name": "Python 3",
   "language": "python",
   "name": "python3"
  },
  "language_info": {
   "codemirror_mode": {
    "name": "ipython",
    "version": 2
   },
   "file_extension": ".py",
   "mimetype": "text/x-python",
   "name": "python",
   "nbconvert_exporter": "python",
   "pygments_lexer": "ipython2",
   "version": "2.7.6"
  }
 },
 "nbformat": 4,
 "nbformat_minor": 0
}
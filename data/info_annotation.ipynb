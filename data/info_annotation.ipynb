{
 "cells": [
  {
   "cell_type": "markdown",
   "source": [
    "Trich xuat thong tin ve annotation"
   ],
   "metadata": {
    "collapsed": false
   }
  },
  {
   "cell_type": "code",
   "execution_count": 1,
   "metadata": {
    "collapsed": true
   },
   "outputs": [],
   "source": [
    "from lib_all import *"
   ]
  },
  {
   "cell_type": "markdown",
   "source": [],
   "metadata": {
    "collapsed": false
   }
  },
  {
   "cell_type": "code",
   "execution_count": 2,
   "outputs": [],
   "source": [
    "class InfoAnno(object): # Kế thừa từ object\n",
    "    #constructor\n",
    "    def __init__(self, classes): #21 cái class của VOC\n",
    "        self.classes = classes\n",
    "\n",
    "    def __call__(self, xml_path, width, height):\n",
    "        #chứa annotation của ảnh\n",
    "        list_bndbox = []\n",
    "        # đọc file này lên\n",
    "        xml = ET.parse(xml_path).getroot()\n",
    "\n",
    "        for obj in xml.iter('object'): #Lấy ra từng object\n",
    "            # độ khó\n",
    "            difficult = int(obj.find('difficult').text)\n",
    "            #khó quá bỏ qua\n",
    "            if difficult == 1:\n",
    "                continue\n",
    "\n",
    "            # lấy bnb box\n",
    "            bndbox_obj = []\n",
    "            bndbox = obj.find(\"bndbox\")\n",
    "            points = ['xmin', 'ymin', 'xmax', 'ymax']\n",
    "            for pt in points:\n",
    "                pixel = int(bndbox.find(pt).text) - 1\n",
    "\n",
    "                #đưa về dạng tỷ lệ\n",
    "                if pt == 'xmin' or pt  == 'xmax':\n",
    "                    pixel /= width\n",
    "                else:\n",
    "                    pixel /=height\n",
    "\n",
    "                bndbox_obj.append(pixel)\n",
    "\n",
    "            name = obj.find(\"name\").text.lower().strip()\n",
    "            # đưa vào trong class chứa các nhãn của tập VOC =>  id của label đấy\n",
    "            label_id =self.classes.index(name)\n",
    "            bndbox_obj.append(label_id)\n",
    "\n",
    "            list_bndbox += [bndbox_obj]\n",
    "        return np.array(list_bndbox) #[[xmin, ymin, xmax, ymax, labelid],...]"
   ],
   "metadata": {
    "collapsed": false,
    "pycharm": {
     "name": "#%%\n"
    }
   }
  },
  {
   "cell_type": "markdown",
   "source": [
    "test"
   ],
   "metadata": {
    "collapsed": false
   }
  },
  {
   "cell_type": "code",
   "execution_count": 3,
   "outputs": [],
   "source": [
    "from nbimporter import get_ipython\n",
    "from data import path"
   ],
   "metadata": {
    "collapsed": false,
    "pycharm": {
     "name": "#%%\n"
    }
   }
  },
  {
   "cell_type": "code",
   "execution_count": 4,
   "outputs": [
    {
     "name": "stdout",
     "output_type": "stream",
     "text": [
      "size img height 333, width 500, channels 3\n"
     ]
    }
   ],
   "source": [
    "if __name__ == \"__main__\":\n",
    "    # 20 (trừ background)\n",
    "    classes = ['aeroplane','bicycle','bird','boat','bottle','bus','car','cat','chair','cow','diningtable','dog','horse','motorbike','person','pottedplant','sheep','sofa','train','tvmonitor']\n",
    "\n",
    "    root_path = './data_set/VOCdevkit/VOC2012/'\n",
    "    train_images_path, train_annotations_path, val_images_path, val_annotations_path = path.get_path(root_path)\n",
    "\n",
    "    idx = 1\n",
    "    image_path = val_images_path[idx]\n",
    "\n",
    "    img = cv2.imread(image_path) #[height, width, 3 channels BGR]\n",
    "    height, width, channels = img.shape\n",
    "    print(\"size img height {}, width {}, channels {}\".format(height, width, channels))"
   ],
   "metadata": {
    "collapsed": false,
    "pycharm": {
     "name": "#%%\n"
    }
   }
  },
  {
   "cell_type": "code",
   "execution_count": 5,
   "outputs": [
    {
     "name": "stdout",
     "output_type": "stream",
     "text": [
      "[[ 0.09        0.03003003  0.998       0.996997   18.        ]\n",
      " [ 0.122       0.56756757  0.164       0.72672673 14.        ]]\n"
     ]
    }
   ],
   "source": [
    "anno_xml = InfoAnno(classes) # [20]\n",
    "inform_annotation = anno_xml(val_annotations_path[idx], width, height)\n",
    "print(inform_annotation)"
   ],
   "metadata": {
    "collapsed": false,
    "pycharm": {
     "name": "#%%\n"
    }
   }
  }
 ],
 "metadata": {
  "kernelspec": {
   "display_name": "Python 3",
   "language": "python",
   "name": "python3"
  },
  "language_info": {
   "codemirror_mode": {
    "name": "ipython",
    "version": 2
   },
   "file_extension": ".py",
   "mimetype": "text/x-python",
   "name": "python",
   "nbconvert_exporter": "python",
   "pygments_lexer": "ipython2",
   "version": "2.7.6"
  }
 },
 "nbformat": 4,
 "nbformat_minor": 0
}
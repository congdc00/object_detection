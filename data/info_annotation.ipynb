{
 "cells": [
  {
   "cell_type": "markdown",
   "source": [
    "# Infomation Annotation\n",
    "Trích xuất thông tin từ annotation"
   ],
   "metadata": {
    "collapsed": false
   }
  },
  {
   "cell_type": "markdown",
   "source": [
    "Thêm thư viện"
   ],
   "metadata": {
    "collapsed": false
   }
  },
  {
   "cell_type": "code",
   "execution_count": 12,
   "metadata": {
    "collapsed": true
   },
   "outputs": [],
   "source": [
    "from lib_all import *\n",
    "from data.path import get_path\n",
    "from config import get_config"
   ]
  },
  {
   "cell_type": "code",
   "execution_count": 13,
   "outputs": [],
   "source": [
    "config = get_config()"
   ],
   "metadata": {
    "collapsed": false,
    "pycharm": {
     "name": "#%%\n"
    }
   }
  },
  {
   "cell_type": "markdown",
   "source": [],
   "metadata": {
    "collapsed": false
   }
  },
  {
   "cell_type": "markdown",
   "source": [
    "Xây dựng lớp InfoAnno\n",
    "- Output: các thông tin về bounding box và label\n",
    "- Kế thừa từ object"
   ],
   "metadata": {
    "collapsed": false
   }
  },
  {
   "cell_type": "code",
   "execution_count": 14,
   "outputs": [],
   "source": [
    "class InfoAnno(object): # Kế thừa từ object\n",
    "    #constructor\n",
    "    def __init__(self, classes): #21 cái class của VOC\n",
    "        self.classes = classes\n",
    "\n",
    "    def __call__(self, anno_path, width, height):\n",
    "        \"\"\"\n",
    "        :param anno_path: [1] đường link dẫn tới xml\n",
    "        :param width: [any] Chiều rộng của ảnh \n",
    "        :param height: [any] Chiều cao của ảnh \n",
    "        :return: [[xmin, ymin, xmax, ymax, labelid],...]\n",
    "        \"\"\"\n",
    "        #chứa annotation của ảnh\n",
    "        list_annotation = []\n",
    "\n",
    "        # đọc file này lên\n",
    "        xml = ET.parse(anno_path).getroot()\n",
    "\n",
    "        for obj in xml.iter('object'): #Lấy ra từng object\n",
    "            # độ khó\n",
    "            difficult = int(obj.find('difficult').text)\n",
    "            #khó quá bỏ qua\n",
    "            if difficult == 1:\n",
    "                continue\n",
    "\n",
    "            # lấy bnb box\n",
    "            annotation_obj = []\n",
    "            bndbox = obj.find(\"bndbox\")\n",
    "            points = ['xmin', 'ymin', 'xmax', 'ymax']\n",
    "            for pt in points:\n",
    "                pixel = int(bndbox.find(pt).text) - 1\n",
    "\n",
    "                #đưa về dạng tỷ lệ\n",
    "                if pt == 'xmin' or pt  == 'xmax':\n",
    "                    pixel /= width\n",
    "                else:\n",
    "                    pixel /=height\n",
    "\n",
    "                annotation_obj.append(pixel)\n",
    "\n",
    "            name = obj.find(\"name\").text.lower().strip()\n",
    "            # đưa vào trong class chứa các nhãn của tập VOC =>  id của label đấy\n",
    "            label_id =self.classes.index(name)\n",
    "            annotation_obj.append(label_id)\n",
    "\n",
    "            list_annotation += [annotation_obj]\n",
    "        return np.array(list_annotation)"
   ],
   "metadata": {
    "collapsed": false,
    "pycharm": {
     "name": "#%%\n"
    }
   }
  },
  {
   "cell_type": "markdown",
   "source": [
    "# Test"
   ],
   "metadata": {
    "collapsed": false
   }
  },
  {
   "cell_type": "code",
   "execution_count": null,
   "outputs": [],
   "source": [
    "root_path = './data_set/VOCdevkit/VOC2012/'\n",
    "train_images_path, train_annotations_path, val_images_path, val_annotations_path = get_path(root_path)"
   ],
   "metadata": {
    "collapsed": false,
    "pycharm": {
     "name": "#%%\n"
    }
   }
  },
  {
   "cell_type": "markdown",
   "source": [
    "Thông số trên từng ảnh"
   ],
   "metadata": {
    "collapsed": false
   }
  },
  {
   "cell_type": "code",
   "execution_count": 19,
   "outputs": [
    {
     "name": "stdout",
     "output_type": "stream",
     "text": [
      "(333, 500, 3)\n"
     ]
    }
   ],
   "source": [
    "img = cv2.imread(val_images_path[1]) #[height, width, 3 channels BGR]\n",
    "height, width, channels = img.shape\n",
    "print(img.shape)"
   ],
   "metadata": {
    "collapsed": false,
    "pycharm": {
     "name": "#%%\n"
    }
   }
  },
  {
   "cell_type": "code",
   "execution_count": 16,
   "outputs": [
    {
     "name": "stdout",
     "output_type": "stream",
     "text": [
      "[[ 0.09        0.03003003  0.998       0.996997   18.        ]\n",
      " [ 0.122       0.56756757  0.164       0.72672673 14.        ]]\n"
     ]
    }
   ],
   "source": [
    "anno_xml = InfoAnno(config[\"classes\"]) # [20]\n",
    "inform_annotation = anno_xml(val_annotations_path[1], width, height)\n",
    "print(inform_annotation)"
   ],
   "metadata": {
    "collapsed": false,
    "pycharm": {
     "name": "#%%\n"
    }
   }
  }
 ],
 "metadata": {
  "kernelspec": {
   "display_name": "Python 3",
   "language": "python",
   "name": "python3"
  },
  "language_info": {
   "codemirror_mode": {
    "name": "ipython",
    "version": 2
   },
   "file_extension": ".py",
   "mimetype": "text/x-python",
   "name": "python",
   "nbconvert_exporter": "python",
   "pygments_lexer": "ipython2",
   "version": "2.7.6"
  }
 },
 "nbformat": 4,
 "nbformat_minor": 0
}